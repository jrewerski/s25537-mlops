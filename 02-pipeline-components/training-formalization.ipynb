{
 "cells": [
  {
   "cell_type": "markdown",
   "id": "f28c29d3",
   "metadata": {},
   "source": [
    "# Faza 1 Stworzenie komponentów do pipelinów \n",
    "\n",
    "Ten notebook ma na celu...\n",
    "    "
   ]
  },
  {
   "cell_type": "markdown",
   "id": "9ffe7e17",
   "metadata": {},
   "source": []
  },
  {
   "cell_type": "code",
   "execution_count": 4,
   "id": "3a1801d3",
   "metadata": {},
   "outputs": [],
   "source": [
    "import kfp\n",
    "from kfp import dsl\n",
    "from kfp.dsl import (Artifact,\n",
    "                        Dataset,\n",
    "                        Input,\n",
    "                        InputPath,\n",
    "                        Model,\n",
    "                        Output,\n",
    "                        OutputPath,\n",
    "                        component,\n",
    "                        Metrics)\n",
    "from kfp.v2 import compiler\n",
    "from google.cloud import aiplatform\n",
    "from typing import NamedTuple"
   ]
  },
  {
   "cell_type": "code",
   "execution_count": 24,
   "id": "5a44a02e",
   "metadata": {},
   "outputs": [],
   "source": [
    "\n",
    "# --- Komponent 1: Przygotowanie danych ---\n",
    "@component(\n",
    "    packages_to_install=[\"pandas==2.2.2\", \"gcsfs==2024.6.0\", \"fsspec\"],\n",
    "    base_image=\"python:3.9\"\n",
    ")\n",
    "def get_data(gcs_input_path: str\n",
    "            , input_data : Output[Dataset]):\n",
    "\n",
    "    import pandas as pd \n",
    "    #wczytanie danych\n",
    "    df = pd.read_csv(gcs_input_path)\n",
    "    df.to_csv(input_data.path, index=False)\n"
   ]
  },
  {
   "cell_type": "markdown",
   "id": "ba3cb05c",
   "metadata": {},
   "source": [
    "Defincicja komponentów i stworzenie pipeline"
   ]
  },
  {
   "cell_type": "code",
   "execution_count": 25,
   "id": "29d0da4f",
   "metadata": {},
   "outputs": [],
   "source": [
    "@component(\n",
    "    packages_to_install=[\"pandas==2.2.2\", \"scikit-learn==1.5.0\"],\n",
    "    base_image=\"python:3.9\"\n",
    ")\n",
    "def preprocess_data(\n",
    "    input_data: Input[Dataset],\n",
    "    train_dataset: Output[Dataset],\n",
    "    test_dataset: Output[Dataset],\n",
    "    test_split_ratio: float,\n",
    "):\n",
    "    import pandas as pd\n",
    "    from sklearn.model_selection import train_test_split\n",
    "    pd.options.mode.chained_assignment = None\n",
    "    \n",
    "    df = pd.read_csv(input_data.path)\n",
    "    df.loc[336, 'sex'] = 'FEMALE'\n",
    "    numerical_cols = ['bill_length_mm', 'bill_depth_mm', 'flipper_length_mm', 'body_mass_g']\n",
    "    for col in numerical_cols:\n",
    "        df[col] = df[col].fillna(df[col].median())\n",
    "    df['sex'] = df['sex'].fillna(df['sex'].mode()[0])\n",
    "    df['sex'] = df['sex'].map({'MALE': 0, 'FEMALE': 1})\n",
    "    df_processed = pd.get_dummies(df, columns=['island'], drop_first=True)\n",
    "    X = df_processed.drop('species', axis=1)\n",
    "    y = df_processed['species']\n",
    "    X_train, X_test, y_train, y_test = train_test_split(X, y, test_size=test_split_ratio, random_state=42, stratify=y)\n",
    "    train_df = pd.concat([X_train, y_train], axis=1)\n",
    "    test_df = pd.concat([X_test, y_test], axis=1)\n",
    "    train_df.to_csv(train_dataset.path, index=False)\n",
    "    test_df.to_csv(test_dataset.path, index=False)"
   ]
  },
  {
   "cell_type": "code",
   "execution_count": 26,
   "id": "1e8d4fca",
   "metadata": {},
   "outputs": [],
   "source": [
    "# --- Komponent 3: Trenowanie modelu SVC ---\n",
    "@component(\n",
    "    base_image=\"python:3.9\",\n",
    "    packages_to_install=[\"pandas==2.2.2\", \"scikit-learn==1.5.0\", \"joblib==1.4.2\"],\n",
    ")\n",
    "def train_svc_model(\n",
    "    train_dataset: Input[Dataset],\n",
    "    model_artifact: Output[Model],\n",
    "):\n",
    "    \"\"\"Trenuje klasyfikator SVC i zapisuje model.\"\"\"\n",
    "    import pandas as pd\n",
    "    from sklearn.svm import SVC\n",
    "    from sklearn.preprocessing import StandardScaler\n",
    "    from sklearn.pipeline import Pipeline\n",
    "    import joblib\n",
    "\n",
    "    train_df = pd.read_csv(train_dataset.path)\n",
    "    X_train = train_df.drop('species', axis=1)\n",
    "    y_train = train_df['species']\n",
    "    svc_pipeline = Pipeline([\n",
    "        ('scaler', StandardScaler()),\n",
    "        ('svc', SVC(kernel='rbf', probability=True, random_state=42))\n",
    "    ])\n",
    "    svc_pipeline.fit(X_train, y_train)\n",
    "    joblib.dump(svc_pipeline, model_artifact.path)\n"
   ]
  },
  {
   "cell_type": "code",
   "execution_count": 27,
   "id": "1c9b724e",
   "metadata": {},
   "outputs": [],
   "source": [
    "@component(\n",
    "    base_image=\"python:3.9\",\n",
    "    packages_to_install=[\"pandas==2.2.2\", \"scikit-learn==1.5.0\", \"joblib==1.4.2\"],\n",
    ")\n",
    "def evaluate_svc_model(\n",
    "    test_dataset: Input[Dataset],\n",
    "    model_artifact: Input[Model],\n",
    "    metrics: Output[Metrics],\n",
    ") -> NamedTuple(\"Outputs\", [(\"accuracy\", float)]):\n",
    "    \"\"\"Ocenia model, zapisuje metryki i zwraca dokładność.\"\"\"\n",
    "    import pandas as pd\n",
    "    from sklearn.metrics import accuracy_score\n",
    "    import joblib\n",
    "\n",
    "    test_df = pd.read_csv(test_dataset.path)\n",
    "    model = joblib.load(model_artifact.path)\n",
    "    X_test = test_df.drop('species', axis=1)\n",
    "    y_test = test_df['species']\n",
    "    y_pred = model.predict(X_test)\n",
    "    accuracy = accuracy_score(y_test, y_pred)\n",
    "    \n",
    "    metrics.log_metric(\"accuracy\", (accuracy * 100.0))\n",
    "    print(f\"Accuracy: {accuracy}\")\n",
    "    return (accuracy * 100.0,)"
   ]
  },
  {
   "cell_type": "code",
   "execution_count": 28,
   "id": "f86e2ca7",
   "metadata": {},
   "outputs": [],
   "source": [
    "\n",
    "# --- Komponent 5: Rejestracja modelu w Vertex AI Model Registry ---\n",
    "@component(\n",
    "    base_image=\"python:3.9\",\n",
    "    packages_to_install=[\"google-cloud-aiplatform==1.55.0\"],\n",
    ")\n",
    "def register_model(\n",
    "    model_artifact: Input[Model],\n",
    "    project_id: str,\n",
    "    region: str,\n",
    "    model_display_name: str,\n",
    "):\n",
    "    \"\"\"Rejestruje model w Vertex AI Model Registry.\"\"\"\n",
    "    from google.cloud import aiplatform\n",
    "\n",
    "    aiplatform.init(project=project_id, location=region)\n",
    "    serving_container_image = \"europe-central2-docker.pkg.dev/vertex-ai/prediction/sklearn-cpu.1-5:latest\"\n",
    "    registered_model = aiplatform.Model.upload(\n",
    "        display_name=model_display_name,\n",
    "        artifact_uri=model_artifact.uri.replace(\"/model\", \"\"),\n",
    "        serving_container_image_uri=serving_container_image,\n",
    "        sync=True,\n",
    "    )\n",
    "    print(f\"Zarejestrowano model: {registered_model.resource_name}\")\n"
   ]
  },
  {
   "cell_type": "code",
   "execution_count": 29,
   "id": "15636fe7",
   "metadata": {},
   "outputs": [
    {
     "name": "stderr",
     "output_type": "stream",
     "text": [
      "/var/folders/8k/rl_ztnc50ml1w56q71s7lb4h0000gq/T/ipykernel_64380/1337702720.py:33: DeprecationWarning: dsl.Condition is deprecated. Please use dsl.If instead.\n",
      "  with dsl.Condition(\n"
     ]
    }
   ],
   "source": [
    "\n",
    "\n",
    "# --- Definicja głównego potoku Vertex AI ---\n",
    "@kfp.dsl.pipeline(\n",
    "    name=\"penguin-svc-classification-with-registry\",\n",
    "    description=\"Potok trenujący i rejestrujący model SVC.\",\n",
    "    pipeline_root=\"gs://vertex-ai-bucket-s25537\",\n",
    ")\n",
    "def penguin_pipeline(\n",
    "    gcs_data_path: str = \"gs://data-s25537/penguins.csv\",\n",
    "    project_id: str = \"mlops-on-gcp-s25537\",\n",
    "    region: str = \"us-central1\",\n",
    "    model_name: str = \"puffin\",\n",
    "    test_split_ratio: float = 0.3,\n",
    "    min_accuracy_threshold: float = 95.0,\n",
    "):\n",
    "    \"\"\"Definiuje przepływ pracy w potoku z warunkową rejestracją.\"\"\"\n",
    "    get_data_task = get_data(gcs_input_path=gcs_data_path)\n",
    "    \n",
    "    transform_data_task = preprocess_data(\n",
    "        input_data=get_data_task.outputs[\"input_data\"],\n",
    "        test_split_ratio=test_split_ratio\n",
    "    )\n",
    "    \n",
    "    train_task = train_svc_model(\n",
    "        train_dataset=transform_data_task.outputs[\"train_dataset\"]\n",
    "    )\n",
    "    \n",
    "    evaluate_task = evaluate_svc_model(\n",
    "        test_dataset=transform_data_task.outputs[\"test_dataset\"],\n",
    "        model_artifact=train_task.outputs[\"model_artifact\"],\n",
    "    )\n",
    "\n",
    "    # Warunek: zarejestruj model tylko, jeśli dokładność jest wystarczająco wysoka\n",
    "    with dsl.Condition(\n",
    "        evaluate_task.outputs[\"accuracy\"] >= min_accuracy_threshold,\n",
    "        name=\"accuracy-check\",\n",
    "    ):\n",
    "        register_model(\n",
    "            project_id=project_id,\n",
    "            region=region,\n",
    "            model_display_name=model_name,\n",
    "            model_artifact=train_task.outputs[\"model_artifact\"],\n",
    "        )\n"
   ]
  },
  {
   "cell_type": "code",
   "execution_count": null,
   "id": "88c6b05b",
   "metadata": {},
   "outputs": [
    {
     "name": "stdout",
     "output_type": "stream",
     "text": [
      "Uruchamianie potoku w Vertex AI...\n",
      "Creating PipelineJob\n",
      "PipelineJob created. Resource name: projects/739663413023/locations/us-central1/pipelineJobs/penguin-svc-classification-with-registry-20250703195147\n",
      "To use this PipelineJob in another session:\n",
      "pipeline_job = aiplatform.PipelineJob.get('projects/739663413023/locations/us-central1/pipelineJobs/penguin-svc-classification-with-registry-20250703195147')\n",
      "View Pipeline Job:\n",
      "https://console.cloud.google.com/vertex-ai/locations/us-central1/pipelines/runs/penguin-svc-classification-with-registry-20250703195147?project=739663413023\n",
      "PipelineJob projects/739663413023/locations/us-central1/pipelineJobs/penguin-svc-classification-with-registry-20250703195147 current state:\n",
      "3\n",
      "PipelineJob projects/739663413023/locations/us-central1/pipelineJobs/penguin-svc-classification-with-registry-20250703195147 current state:\n",
      "3\n",
      "PipelineJob projects/739663413023/locations/us-central1/pipelineJobs/penguin-svc-classification-with-registry-20250703195147 current state:\n",
      "3\n",
      "PipelineJob projects/739663413023/locations/us-central1/pipelineJobs/penguin-svc-classification-with-registry-20250703195147 current state:\n",
      "3\n"
     ]
    }
   ],
   "source": [
    "compiler.Compiler().compile(\n",
    "        pipeline_func=penguin_pipeline,\n",
    "        package_path=\"penguin_svc_pipeline_with_registry.json\",\n",
    "    )\n",
    "\n",
    "aiplatform.init(project=\"mlops-on-gcp-s25537\", location='us-central1')\n",
    "\n",
    "job = aiplatform.PipelineJob(\n",
    "        display_name=\"penguin-svc-with-registry-run\",\n",
    "        template_path=\"penguin_svc_pipeline_with_registry.json\",\n",
    "        pipeline_root=\"gs://vertex-ai-bucket-s25537\",\n",
    "        enable_caching=True,\n",
    "    )\n",
    "\n",
    "print(\"Uruchamianie potoku w Vertex AI...\")\n",
    "job.run()\n",
    "print(\"Potok został uruchomiony. Sprawdź postęp w konsoli Google Cloud.\")"
   ]
  },
  {
   "cell_type": "code",
   "execution_count": null,
   "id": "bd73a4c0",
   "metadata": {},
   "outputs": [],
   "source": []
  },
  {
   "cell_type": "code",
   "execution_count": null,
   "id": "1998f1d6",
   "metadata": {},
   "outputs": [],
   "source": []
  }
 ],
 "metadata": {
  "kernelspec": {
   "display_name": ".venv",
   "language": "python",
   "name": "python3"
  },
  "language_info": {
   "codemirror_mode": {
    "name": "ipython",
    "version": 3
   },
   "file_extension": ".py",
   "mimetype": "text/x-python",
   "name": "python",
   "nbconvert_exporter": "python",
   "pygments_lexer": "ipython3",
   "version": "3.13.5"
  }
 },
 "nbformat": 4,
 "nbformat_minor": 5
}
