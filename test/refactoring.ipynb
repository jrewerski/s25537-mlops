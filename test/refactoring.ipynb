{
 "cells": [
  {
   "cell_type": "markdown",
   "id": "f28c29d3",
   "metadata": {},
   "source": [
    "# Faza 1 Stworzenie komponentów do pipelinów \n",
    "\n",
    "Ten notebook ma na celu impelemtacje poszczególnych komponentów na podstawie jupyter notebook. \n",
    "    "
   ]
  },
  {
   "cell_type": "markdown",
   "id": "9ffe7e17",
   "metadata": {},
   "source": []
  },
  {
   "cell_type": "code",
   "execution_count": 18,
   "id": "3a1801d3",
   "metadata": {},
   "outputs": [],
   "source": [
    "import kfp\n",
    "from kfp import dsl\n",
    "from kfp.dsl import (Artifact,\n",
    "                        Dataset,\n",
    "                        Input,\n",
    "                        InputPath,\n",
    "                        Model,\n",
    "                        Output,\n",
    "                        OutputPath,\n",
    "                        component,\n",
    "                        Metrics)\n",
    "from kfp import compiler\n",
    "from google.cloud import aiplatform\n",
    "from typing import NamedTuple\n",
    "import logging"
   ]
  },
  {
   "cell_type": "code",
   "execution_count": 19,
   "id": "5a44a02e",
   "metadata": {},
   "outputs": [],
   "source": [
    "\n",
    "# --- Komponent 1: Przygotowanie danych ---\n",
    "@component(\n",
    "    packages_to_install=[\"pandas==2.2.2\", \"gcsfs\", \"fsspec\", \"pyarrow\"],\n",
    "    base_image=\"python:3.9\"\n",
    ")\n",
    "def get_data(gcs_input_path: str\n",
    "            , input_data : Output[Dataset]):\n",
    "\n",
    "    import pandas as pd \n",
    "    #wczytanie danych\n",
    "    df = pd.read_csv(gcs_input_path)\n",
    "    df.to_csv(input_data.path, index=False)\n"
   ]
  },
  {
   "cell_type": "markdown",
   "id": "ba3cb05c",
   "metadata": {},
   "source": [
    "Defincicja komponentów i stworzenie pipeline"
   ]
  },
  {
   "cell_type": "code",
   "execution_count": null,
   "id": "29d0da4f",
   "metadata": {},
   "outputs": [],
   "source": []
  },
  {
   "cell_type": "code",
   "execution_count": null,
   "id": "1e8d4fca",
   "metadata": {},
   "outputs": [],
   "source": []
  },
  {
   "cell_type": "code",
   "execution_count": null,
   "id": "1c9b724e",
   "metadata": {},
   "outputs": [],
   "source": []
  },
  {
   "cell_type": "code",
   "execution_count": null,
   "id": "f86e2ca7",
   "metadata": {},
   "outputs": [],
   "source": []
  },
  {
   "cell_type": "code",
   "execution_count": null,
   "id": "15636fe7",
   "metadata": {},
   "outputs": [],
   "source": [
    "\n",
    "\n",
    "# --- Definicja głównego potoku Vertex AI ---\n",
    "@kfp.dsl.pipeline(\n",
    "    name=\"test\",\n",
    "    description=\"Potok trenujący i rejestrujący model SVC.\",\n",
    "    pipeline_root=\"gs://vertex-ai-bucket-s25537\",\n",
    ")\n",
    "def penguin_pipeline(\n",
    "    gcs_data_path: str = \"gs://data-s25537/penguins.csv\",\n",
    "    project_id: str = \"mlops-on-gcp-s25537\",\n",
    "    region: str = \"us-central1\",\n",
    "    model_name: str = \"puffin\",\n",
    "    test_split_ratio: float = 0.3,\n",
    "    min_accuracy_threshold: float = 95.0,\n",
    "):\n",
    "    \"\"\"Definiuje przepływ pracy w potoku z warunkową rejestracją.\"\"\"\n",
    "    get_data_task = get_data(gcs_input_path=gcs_data_path)\n",
    "    \n",
    "    transform_data_task = preprocess_data(\n",
    "        input_data=get_data_task.outputs[\"input_data\"],\n",
    "        test_split_ratio=test_split_ratio\n",
    "    )\n",
    "    \n",
    "    train_task = train_svc_model(\n",
    "        train_dataset=transform_data_task.outputs[\"train_dataset\"]\n",
    "    )\n",
    "    \n",
    "    evaluate_task = evaluate_svc_model(\n",
    "        test_dataset=transform_data_task.outputs[\"test_dataset\"],\n",
    "        model=train_task.outputs[\"model\"],\n",
    "    )\n",
    "\n",
    "    # Warunek: zarejestruj model tylko, jeśli dokładność jest wystarczająco wysoka\n",
    "    with dsl.If(\n",
    "        evaluate_task.outputs[\"accuracy\"] >= min_accuracy_threshold,\n",
    "        name=\"accuracy-check\",\n",
    "    ):\n",
    "        register_model(\n",
    "            project_id=project_id,\n",
    "            region=region,\n",
    "            model_display_name=model_name,\n",
    "            model=train_task.outputs[\"model\"],\n",
    "        )\n"
   ]
  },
  {
   "cell_type": "code",
   "execution_count": 25,
   "id": "88c6b05b",
   "metadata": {},
   "outputs": [
    {
     "name": "stdout",
     "output_type": "stream",
     "text": [
      "Uruchamianie potoku w Vertex AI...\n",
      "Creating PipelineJob\n",
      "PipelineJob created. Resource name: projects/739663413023/locations/us-central1/pipelineJobs/penguin-svc-classification-with-registry-20250705184555\n",
      "To use this PipelineJob in another session:\n",
      "pipeline_job = aiplatform.PipelineJob.get('projects/739663413023/locations/us-central1/pipelineJobs/penguin-svc-classification-with-registry-20250705184555')\n",
      "View Pipeline Job:\n",
      "https://console.cloud.google.com/vertex-ai/locations/us-central1/pipelines/runs/penguin-svc-classification-with-registry-20250705184555?project=739663413023\n",
      "PipelineJob projects/739663413023/locations/us-central1/pipelineJobs/penguin-svc-classification-with-registry-20250705184555 current state:\n",
      "3\n",
      "PipelineJob projects/739663413023/locations/us-central1/pipelineJobs/penguin-svc-classification-with-registry-20250705184555 current state:\n",
      "3\n",
      "PipelineJob projects/739663413023/locations/us-central1/pipelineJobs/penguin-svc-classification-with-registry-20250705184555 current state:\n",
      "3\n",
      "PipelineJob projects/739663413023/locations/us-central1/pipelineJobs/penguin-svc-classification-with-registry-20250705184555 current state:\n",
      "3\n",
      "PipelineJob projects/739663413023/locations/us-central1/pipelineJobs/penguin-svc-classification-with-registry-20250705184555 current state:\n",
      "3\n",
      "PipelineJob run completed. Resource name: projects/739663413023/locations/us-central1/pipelineJobs/penguin-svc-classification-with-registry-20250705184555\n",
      "Potok został uruchomiony. Sprawdź postęp w konsoli Google Cloud.\n"
     ]
    }
   ],
   "source": [
    "compiler.Compiler().compile(\n",
    "        pipeline_func=penguin_pipeline,\n",
    "        package_path=\"penguin_svc_pipeline_with_registry.json\",\n",
    "    )\n",
    "\n",
    "aiplatform.init(project=\"mlops-on-gcp-s25537\", location='us-central1')\n",
    "\n",
    "job = aiplatform.PipelineJob(\n",
    "        display_name=\"penguin-svc-with-registry-run\",\n",
    "        template_path=\"penguin_svc_pipeline_with_registry.json\",\n",
    "        pipeline_root=\"gs://vertex-ai-bucket-s25537\",\n",
    "        enable_caching=True,\n",
    "    )\n",
    "\n",
    "print(\"Uruchamianie potoku w Vertex AI...\")\n",
    "job.run()\n",
    "print(\"Potok został uruchomiony. Sprawdź postęp w konsoli Google Cloud.\")"
   ]
  },
  {
   "cell_type": "code",
   "execution_count": null,
   "id": "bd73a4c0",
   "metadata": {},
   "outputs": [],
   "source": []
  },
  {
   "cell_type": "code",
   "execution_count": null,
   "id": "1998f1d6",
   "metadata": {},
   "outputs": [],
   "source": []
  },
  {
   "cell_type": "code",
   "execution_count": null,
   "id": "cf3d1962",
   "metadata": {},
   "outputs": [],
   "source": []
  }
 ],
 "metadata": {
  "kernelspec": {
   "display_name": ".venv",
   "language": "python",
   "name": "python3"
  },
  "language_info": {
   "codemirror_mode": {
    "name": "ipython",
    "version": 3
   },
   "file_extension": ".py",
   "mimetype": "text/x-python",
   "name": "python",
   "nbconvert_exporter": "python",
   "pygments_lexer": "ipython3",
   "version": "3.13.5"
  }
 },
 "nbformat": 4,
 "nbformat_minor": 5
}
